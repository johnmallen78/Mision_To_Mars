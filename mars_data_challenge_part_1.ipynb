{
 "cells": [
  {
   "cell_type": "code",
   "execution_count": 17,
   "id": "c1b3bbac",
   "metadata": {},
   "outputs": [],
   "source": [
    "# import dependencies\n",
    "from splinter import Browser\n",
    "from bs4 import BeautifulSoup as soup\n",
    "from webdriver_manager.chrome import ChromeDriverManager"
   ]
  },
  {
   "cell_type": "code",
   "execution_count": 18,
   "id": "95ec0576",
   "metadata": {},
   "outputs": [],
   "source": [
    "exe_path = {'executable_path': ChromeDriverManager().install()}\n",
    "browser = Browser('chrome' , **exe_path , headless = False)"
   ]
  },
  {
   "cell_type": "code",
   "execution_count": 19,
   "id": "08acdd98",
   "metadata": {},
   "outputs": [],
   "source": [
    "url = 'https://redplanetscience.com/'\n",
    "browser.visit(url)"
   ]
  },
  {
   "cell_type": "code",
   "execution_count": 20,
   "id": "1d866b10",
   "metadata": {},
   "outputs": [],
   "source": [
    "html = browser.html\n",
    "mars_news = soup(html , 'html.parser')"
   ]
  },
  {
   "cell_type": "code",
   "execution_count": 21,
   "id": "c17cd5b9",
   "metadata": {},
   "outputs": [
    {
     "data": {
      "text/plain": [
       "'News - Mars Exploration Program'"
      ]
     },
     "execution_count": 21,
     "metadata": {},
     "output_type": "execute_result"
    }
   ],
   "source": [
    "mars_news.head.title.text"
   ]
  },
  {
   "cell_type": "code",
   "execution_count": 22,
   "id": "7ebee9b1",
   "metadata": {},
   "outputs": [
    {
     "data": {
      "text/plain": [
       "[\"5 Hidden Gems Are Riding Aboard NASA's Perseverance Rover\",\n",
       " \"NASA's Curiosity Rover Finds an Ancient Oasis on Mars\",\n",
       " 'AI Is Helping Scientists Discover Fresh Craters on Mars',\n",
       " \"All About the Laser (and Microphone) Atop Mars 2020, NASA's Next Rover\",\n",
       " 'Mars 2020 Unwrapped and Ready for More Testing',\n",
       " \"NASA's Curiosity Takes Selfie With 'Mary Anning' on the Red Planet\",\n",
       " \"A Martian Roundtrip: NASA's Perseverance Rover Sample Tubes\",\n",
       " \"NASA's Perseverance Mars Rover Gets Its Wheels and Air Brakes\",\n",
       " \"Deadline Closing for Names to Fly on NASA's Next Mars Rover\",\n",
       " \"Media Get a Close-Up of NASA's Mars 2020 Rover\",\n",
       " \"NASA Wins 4 Webbys, 4 People's Voice Awards\",\n",
       " 'NASA Establishes Board to Initially Review Mars Sample Return Plans',\n",
       " 'Naming a NASA Mars Rover Can Change Your Life',\n",
       " \"NASA's Mars Rover Drivers Need Your Help\",\n",
       " \"NASA's Perseverance Rover Bringing 3D-Printed Metal Parts to Mars\"]"
      ]
     },
     "execution_count": 22,
     "metadata": {},
     "output_type": "execute_result"
    }
   ],
   "source": [
    "#getting list of title from site\n",
    "title_text = []\n",
    "titles_list= mars_news.find_all(\"div\" , class_ = \"content_title\")\n",
    "for title in titles_list:\n",
    "    title_text.append(title.text)    \n",
    "title_text"
   ]
  },
  {
   "cell_type": "code",
   "execution_count": 23,
   "id": "7d3714c1",
   "metadata": {},
   "outputs": [
    {
     "data": {
      "text/plain": [
       "[\"The symbols, mottos, and small objects added to the agency's newest Mars rover serve a variety of purposes, from functional to decorative.\",\n",
       " \"New evidence suggests salty, shallow ponds once dotted a Martian crater — a sign of the planet's drying climate.\",\n",
       " \"It's the first time machine learning has been used to find previously unknown craters on the Red Planet.\",\n",
       " 'SuperCam is a rock-vaporizing instrument that will help scientists hunt for Mars fossils.',\n",
       " \"In time-lapse video, bunny-suited engineers remove the inner layer of protective foil on NASA's Mars 2020 rover after it was relocated for testing.\",\n",
       " 'The Mars rover has drilled three samples of rock in this clay-enriched region since arriving in July.',\n",
       " \"Marvels of engineering, the rover's sample tubes must be tough enough to safely bring Red Planet samples on the long journey back to Earth in immaculate condition. \",\n",
       " 'After the rover was shipped from JPL to Kennedy Space Center, the team is getting closer to finalizing the spacecraft for launch later this summer.',\n",
       " 'You have until Sept. 30 to send your names to Mars aboard the Mars 2020 rover. ',\n",
       " \"The clean room at NASA's Jet Propulsion Laboratory was open to the media to see NASA's next Mars explorer before it leaves for Florida in preparation for a summertime launch.\",\n",
       " 'Winners include the JPL-managed \"Send Your Name to Mars\" campaign, NASA\\'s Global Climate Change website and Solar System Interactive.',\n",
       " 'The board will assist with analysis of current plans and goals for one of the most difficult missions humanity has ever undertaken.',\n",
       " 'Want to name the robotic scientist NASA is sending to Mars in 2020? The student who named Curiosity — the rover currently exploring Mars — will tell you this is an opportunity worth taking.',\n",
       " 'Using an online tool to label Martian terrain types, you can train an artificial intelligence algorithm that could improve the way engineers guide the Curiosity rover.',\n",
       " \"For hobbyists and makers, 3D printing expands creative possibilities; for specialized engineers, it's also key to next-generation spacecraft design.\"]"
      ]
     },
     "execution_count": 23,
     "metadata": {},
     "output_type": "execute_result"
    }
   ],
   "source": [
    "#getting list of preview from site\n",
    "preview_text = []\n",
    "preview_list = mars_news.find_all(\"div\" , class_ = \"article_teaser_body\")\n",
    "for preview in preview_list:\n",
    "    preview_text.append(preview.text)\n",
    "preview_text"
   ]
  },
  {
   "cell_type": "code",
   "execution_count": 24,
   "id": "964bd385",
   "metadata": {},
   "outputs": [
    {
     "data": {
      "text/plain": [
       "[{'title': \"5 Hidden Gems Are Riding Aboard NASA's Perseverance Rover\",\n",
       "  'preview': \"The symbols, mottos, and small objects added to the agency's newest Mars rover serve a variety of purposes, from functional to decorative.\"},\n",
       " {'title': \"NASA's Curiosity Rover Finds an Ancient Oasis on Mars\",\n",
       "  'preview': \"New evidence suggests salty, shallow ponds once dotted a Martian crater — a sign of the planet's drying climate.\"},\n",
       " {'title': 'AI Is Helping Scientists Discover Fresh Craters on Mars',\n",
       "  'preview': \"It's the first time machine learning has been used to find previously unknown craters on the Red Planet.\"},\n",
       " {'title': \"All About the Laser (and Microphone) Atop Mars 2020, NASA's Next Rover\",\n",
       "  'preview': 'SuperCam is a rock-vaporizing instrument that will help scientists hunt for Mars fossils.'},\n",
       " {'title': 'Mars 2020 Unwrapped and Ready for More Testing',\n",
       "  'preview': \"In time-lapse video, bunny-suited engineers remove the inner layer of protective foil on NASA's Mars 2020 rover after it was relocated for testing.\"},\n",
       " {'title': \"NASA's Curiosity Takes Selfie With 'Mary Anning' on the Red Planet\",\n",
       "  'preview': 'The Mars rover has drilled three samples of rock in this clay-enriched region since arriving in July.'},\n",
       " {'title': \"A Martian Roundtrip: NASA's Perseverance Rover Sample Tubes\",\n",
       "  'preview': \"Marvels of engineering, the rover's sample tubes must be tough enough to safely bring Red Planet samples on the long journey back to Earth in immaculate condition. \"},\n",
       " {'title': \"NASA's Perseverance Mars Rover Gets Its Wheels and Air Brakes\",\n",
       "  'preview': 'After the rover was shipped from JPL to Kennedy Space Center, the team is getting closer to finalizing the spacecraft for launch later this summer.'},\n",
       " {'title': \"Deadline Closing for Names to Fly on NASA's Next Mars Rover\",\n",
       "  'preview': 'You have until Sept. 30 to send your names to Mars aboard the Mars 2020 rover. '},\n",
       " {'title': \"Media Get a Close-Up of NASA's Mars 2020 Rover\",\n",
       "  'preview': \"The clean room at NASA's Jet Propulsion Laboratory was open to the media to see NASA's next Mars explorer before it leaves for Florida in preparation for a summertime launch.\"},\n",
       " {'title': \"NASA Wins 4 Webbys, 4 People's Voice Awards\",\n",
       "  'preview': 'Winners include the JPL-managed \"Send Your Name to Mars\" campaign, NASA\\'s Global Climate Change website and Solar System Interactive.'},\n",
       " {'title': 'NASA Establishes Board to Initially Review Mars Sample Return Plans',\n",
       "  'preview': 'The board will assist with analysis of current plans and goals for one of the most difficult missions humanity has ever undertaken.'},\n",
       " {'title': 'Naming a NASA Mars Rover Can Change Your Life',\n",
       "  'preview': 'Want to name the robotic scientist NASA is sending to Mars in 2020? The student who named Curiosity — the rover currently exploring Mars — will tell you this is an opportunity worth taking.'},\n",
       " {'title': \"NASA's Mars Rover Drivers Need Your Help\",\n",
       "  'preview': 'Using an online tool to label Martian terrain types, you can train an artificial intelligence algorithm that could improve the way engineers guide the Curiosity rover.'},\n",
       " {'title': \"NASA's Perseverance Rover Bringing 3D-Printed Metal Parts to Mars\",\n",
       "  'preview': \"For hobbyists and makers, 3D printing expands creative possibilities; for specialized engineers, it's also key to next-generation spacecraft design.\"}]"
      ]
     },
     "execution_count": 24,
     "metadata": {},
     "output_type": "execute_result"
    }
   ],
   "source": [
    "# create new list of dict with title and preview\n",
    "news_dist_list = [ ]\n",
    "for x in range(len(title_text)):\n",
    "    news = {}\n",
    "    news['title']=title_text[x]\n",
    "    news['preview']= preview_text[x]\n",
    "    news_dist_list.append(news)\n",
    "\n",
    "news_dist_list"
   ]
  },
  {
   "cell_type": "code",
   "execution_count": 25,
   "id": "a350950e",
   "metadata": {},
   "outputs": [],
   "source": [
    "from pymongo import MongoClient"
   ]
  },
  {
   "cell_type": "code",
   "execution_count": 26,
   "id": "2ebc026f",
   "metadata": {},
   "outputs": [],
   "source": [
    "# Create an instance of MongoClient\n",
    "marsdb = MongoClient(\"mongodb://localhost:27017/\")"
   ]
  },
  {
   "cell_type": "code",
   "execution_count": 27,
   "id": "021bef6d",
   "metadata": {},
   "outputs": [],
   "source": [
    "# new data base created in mongodb\n",
    "db = marsdb['mars_news']"
   ]
  },
  {
   "cell_type": "code",
   "execution_count": 29,
   "id": "7cfd8f22",
   "metadata": {},
   "outputs": [],
   "source": [
    "# collection created in database \n",
    "# if statement is used because new document added in same database \n",
    "if (db.list_collection_names() == [ ]):\n",
    "    mars_news_list = db['mars_news_list']\n",
    "else:\n",
    "    db.drop_collection('mars_news_list')\n",
    "    mars_news_list = db['mars_news_list']"
   ]
  },
  {
   "cell_type": "code",
   "execution_count": 31,
   "id": "4925f7c4",
   "metadata": {},
   "outputs": [
    {
     "name": "stdout",
     "output_type": "stream",
     "text": [
      "['admin', 'config', 'local']\n"
     ]
    }
   ],
   "source": [
    "print(marsdb.list_database_names())"
   ]
  },
  {
   "cell_type": "code",
   "execution_count": 32,
   "id": "d7abfeaa",
   "metadata": {},
   "outputs": [
    {
     "name": "stdout",
     "output_type": "stream",
     "text": [
      "['mars_news_list']\n"
     ]
    }
   ],
   "source": [
    "# insert all the data into mongodb database\n",
    "x = mars_news_list.insert_many(news_dist_list)\n",
    "print(db.list_collection_names())"
   ]
  },
  {
   "cell_type": "code",
   "execution_count": 33,
   "id": "23473d00",
   "metadata": {},
   "outputs": [
    {
     "name": "stdout",
     "output_type": "stream",
     "text": [
      "{'_id': ObjectId('636d50d3cdd6c5bf63e463e1'), 'title': \"5 Hidden Gems Are Riding Aboard NASA's Perseverance Rover\", 'preview': \"The symbols, mottos, and small objects added to the agency's newest Mars rover serve a variety of purposes, from functional to decorative.\"}\n",
      "{'_id': ObjectId('636d50d3cdd6c5bf63e463e2'), 'title': \"NASA's Curiosity Rover Finds an Ancient Oasis on Mars\", 'preview': \"New evidence suggests salty, shallow ponds once dotted a Martian crater — a sign of the planet's drying climate.\"}\n",
      "{'_id': ObjectId('636d50d3cdd6c5bf63e463e3'), 'title': 'AI Is Helping Scientists Discover Fresh Craters on Mars', 'preview': \"It's the first time machine learning has been used to find previously unknown craters on the Red Planet.\"}\n",
      "{'_id': ObjectId('636d50d3cdd6c5bf63e463e4'), 'title': \"All About the Laser (and Microphone) Atop Mars 2020, NASA's Next Rover\", 'preview': 'SuperCam is a rock-vaporizing instrument that will help scientists hunt for Mars fossils.'}\n",
      "{'_id': ObjectId('636d50d3cdd6c5bf63e463e5'), 'title': 'Mars 2020 Unwrapped and Ready for More Testing', 'preview': \"In time-lapse video, bunny-suited engineers remove the inner layer of protective foil on NASA's Mars 2020 rover after it was relocated for testing.\"}\n",
      "{'_id': ObjectId('636d50d3cdd6c5bf63e463e6'), 'title': \"NASA's Curiosity Takes Selfie With 'Mary Anning' on the Red Planet\", 'preview': 'The Mars rover has drilled three samples of rock in this clay-enriched region since arriving in July.'}\n",
      "{'_id': ObjectId('636d50d3cdd6c5bf63e463e7'), 'title': \"A Martian Roundtrip: NASA's Perseverance Rover Sample Tubes\", 'preview': \"Marvels of engineering, the rover's sample tubes must be tough enough to safely bring Red Planet samples on the long journey back to Earth in immaculate condition. \"}\n",
      "{'_id': ObjectId('636d50d3cdd6c5bf63e463e8'), 'title': \"NASA's Perseverance Mars Rover Gets Its Wheels and Air Brakes\", 'preview': 'After the rover was shipped from JPL to Kennedy Space Center, the team is getting closer to finalizing the spacecraft for launch later this summer.'}\n",
      "{'_id': ObjectId('636d50d3cdd6c5bf63e463e9'), 'title': \"Deadline Closing for Names to Fly on NASA's Next Mars Rover\", 'preview': 'You have until Sept. 30 to send your names to Mars aboard the Mars 2020 rover. '}\n",
      "{'_id': ObjectId('636d50d3cdd6c5bf63e463ea'), 'title': \"Media Get a Close-Up of NASA's Mars 2020 Rover\", 'preview': \"The clean room at NASA's Jet Propulsion Laboratory was open to the media to see NASA's next Mars explorer before it leaves for Florida in preparation for a summertime launch.\"}\n",
      "{'_id': ObjectId('636d50d3cdd6c5bf63e463eb'), 'title': \"NASA Wins 4 Webbys, 4 People's Voice Awards\", 'preview': 'Winners include the JPL-managed \"Send Your Name to Mars\" campaign, NASA\\'s Global Climate Change website and Solar System Interactive.'}\n",
      "{'_id': ObjectId('636d50d3cdd6c5bf63e463ec'), 'title': 'NASA Establishes Board to Initially Review Mars Sample Return Plans', 'preview': 'The board will assist with analysis of current plans and goals for one of the most difficult missions humanity has ever undertaken.'}\n",
      "{'_id': ObjectId('636d50d3cdd6c5bf63e463ed'), 'title': 'Naming a NASA Mars Rover Can Change Your Life', 'preview': 'Want to name the robotic scientist NASA is sending to Mars in 2020? The student who named Curiosity — the rover currently exploring Mars — will tell you this is an opportunity worth taking.'}\n",
      "{'_id': ObjectId('636d50d3cdd6c5bf63e463ee'), 'title': \"NASA's Mars Rover Drivers Need Your Help\", 'preview': 'Using an online tool to label Martian terrain types, you can train an artificial intelligence algorithm that could improve the way engineers guide the Curiosity rover.'}\n",
      "{'_id': ObjectId('636d50d3cdd6c5bf63e463ef'), 'title': \"NASA's Perseverance Rover Bringing 3D-Printed Metal Parts to Mars\", 'preview': \"For hobbyists and makers, 3D printing expands creative possibilities; for specialized engineers, it's also key to next-generation spacecraft design.\"}\n"
     ]
    }
   ],
   "source": [
    "#print all documents which are added into collection\n",
    "for x in mars_news_list.find():\n",
    "      print(x)"
   ]
  },
  {
   "cell_type": "code",
   "execution_count": 35,
   "id": "7cc33c6a",
   "metadata": {},
   "outputs": [
    {
     "name": "stdout",
     "output_type": "stream",
     "text": [
      "['admin', 'config', 'local', 'mars_news']\n"
     ]
    }
   ],
   "source": [
    "print(marsdb.list_database_names())"
   ]
  },
  {
   "cell_type": "code",
   "execution_count": 36,
   "id": "9165d09a",
   "metadata": {},
   "outputs": [],
   "source": [
    "browser.quit()"
   ]
  },
  {
   "cell_type": "code",
   "execution_count": null,
   "id": "aad3cd72",
   "metadata": {},
   "outputs": [],
   "source": []
  }
 ],
 "metadata": {
  "kernelspec": {
   "display_name": "Python 3 (ipykernel)",
   "language": "python",
   "name": "python3"
  },
  "language_info": {
   "codemirror_mode": {
    "name": "ipython",
    "version": 3
   },
   "file_extension": ".py",
   "mimetype": "text/x-python",
   "name": "python",
   "nbconvert_exporter": "python",
   "pygments_lexer": "ipython3",
   "version": "3.9.12"
  }
 },
 "nbformat": 4,
 "nbformat_minor": 5
}
